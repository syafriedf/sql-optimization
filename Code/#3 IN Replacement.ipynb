{
 "cells": [
  {
   "cell_type": "markdown",
   "id": "946eaee2",
   "metadata": {},
   "source": [
    "### Install Libraries"
   ]
  },
  {
   "cell_type": "code",
   "execution_count": null,
   "id": "c84393cf",
   "metadata": {
    "vscode": {
     "languageId": "plaintext"
    }
   },
   "outputs": [],
   "source": [
    "!pip install ipython-sql\n",
    "!pip install prettytable==2.4.0"
   ]
  },
  {
   "cell_type": "markdown",
   "id": "3600971c",
   "metadata": {},
   "source": [
    "### To add SQL Extension"
   ]
  },
  {
   "cell_type": "code",
   "execution_count": null,
   "id": "1f0c9370",
   "metadata": {
    "vscode": {
     "languageId": "plaintext"
    }
   },
   "outputs": [],
   "source": [
    "%load_ext sql"
   ]
  },
  {
   "cell_type": "markdown",
   "id": "87d15966",
   "metadata": {},
   "source": [
    "### Connect to database"
   ]
  },
  {
   "cell_type": "code",
   "execution_count": null,
   "id": "5f1fbae4",
   "metadata": {
    "vscode": {
     "languageId": "plaintext"
    }
   },
   "outputs": [],
   "source": [
    "%sql sqlite:///Northwind.db"
   ]
  },
  {
   "cell_type": "markdown",
   "id": "815a67ca",
   "metadata": {},
   "source": [
    "### Library Import"
   ]
  },
  {
   "cell_type": "code",
   "execution_count": null,
   "id": "636d398f",
   "metadata": {
    "vscode": {
     "languageId": "plaintext"
    }
   },
   "outputs": [],
   "source": [
    "import prettytable\n",
    "prettytable.DEFAULT = prettytable.PLAIN_COLUMNS"
   ]
  },
  {
   "cell_type": "markdown",
   "id": "b9128cf4",
   "metadata": {},
   "source": [
    "## 1. Table Exploration"
   ]
  },
  {
   "cell_type": "code",
   "execution_count": null,
   "id": "3eebc7a1",
   "metadata": {
    "vscode": {
     "languageId": "plaintext"
    }
   },
   "outputs": [],
   "source": [
    "%sql sqlite:///Northwind.db\n",
    "\n",
    "# get table name\n",
    "tables = %sql SELECT name FROM sqlite_master WHERE type='table';\n",
    "\n",
    "# Loop for every table\n",
    "for t in tables:\n",
    "    table_name = t[0]  # t is tuple, ex: ('Orders',)\n",
    "    print(f\"===== Table: {table_name} =====\")\n",
    "    # show top 10 for row\n",
    "    results = %sql SELECT * FROM $table_name LIMIT 10;"
   ]
  },
  {
   "cell_type": "markdown",
   "id": "598d82ae",
   "metadata": {},
   "source": []
  },
  {
   "cell_type": "markdown",
   "id": "54594afe",
   "metadata": {},
   "source": [
    "## 2. Analysis"
   ]
  },
  {
   "cell_type": "markdown",
   "id": "4d5d96a0",
   "metadata": {},
   "source": [
    " #### Before"
   ]
  },
  {
   "cell_type": "code",
   "execution_count": null,
   "id": "98e3bce3",
   "metadata": {
    "vscode": {
     "languageId": "plaintext"
    }
   },
   "outputs": [],
   "source": [
    "%%sql\n",
    "SELECT * FROM employees \n",
    "WHERE department_id IN (SELECT id FROM departments WHERE location = 'NY');"
   ]
  },
  {
   "cell_type": "markdown",
   "id": "fa807441",
   "metadata": {},
   "source": [
    " #### After"
   ]
  },
  {
   "cell_type": "code",
   "execution_count": null,
   "id": "f4264e39",
   "metadata": {
    "vscode": {
     "languageId": "plaintext"
    }
   },
   "outputs": [],
   "source": [
    "%%sql\n",
    "SELECT * FROM employees e \n",
    "WHERE EXISTS (\n",
    "  SELECT 1 FROM departments d \n",
    "  WHERE d.id = e.department_id AND d.location = 'NY'\n",
    ");"
   ]
  }
 ],
 "metadata": {
  "language_info": {
   "name": "python"
  }
 },
 "nbformat": 4,
 "nbformat_minor": 5
}
